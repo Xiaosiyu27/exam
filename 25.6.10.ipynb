{
 "cells": [
  {
   "cell_type": "markdown",
   "id": "b0b6c936",
   "metadata": {},
   "source": [
    "# Programming in Python\n",
    "## Exam: June 10, 2025\n",
    "\n",
    "\n",
    "You can solve the exercises below by using standard Python 3.12 libraries, NumPy, Matplotlib, Pandas, PyMC.\n",
    "You can browse the documentation: [Python](https://docs.python.org/3.12/), [NumPy](https://numpy.org/doc/1.26/index.html), [Matplotlib](https://matplotlib.org/3.10.0/users/index.html), [Pandas](https://pandas.pydata.org/pandas-docs/version/2.2/index.html), [PyMC](https://www.pymc.io/projects/docs/en/stable/api.html).\n",
    "You can also look at the [slides](https://homes.di.unimi.it/monga/lucidi2425/pyqb00.pdf) or your code on [GitHub](https://github.com).\n",
    "\n",
    "\n",
    "**The exam is \"open book\", but it is strictly forbidden to communicate with others or \"ask questions\" online (i.e., stackoverflow is ok if the answer is already there, but you cannot ask a new question or use ChatGPT and similar products). Suspicious canned answers or plagiarism among student solutions will cause the invalidation of the exam for all the people involved.**\n",
    "\n",
    "To test examples in docstrings use\n",
    "\n",
    "```python\n",
    "import doctest\n",
    "doctest.testmod()\n",
    "```"
   ]
  },
  {
   "cell_type": "markdown",
   "id": "97646033",
   "metadata": {},
   "source": [
    "**SOLVE EACH EXERCISE IN ONE OR MORE NOTEBOOK CELLS AFTER THE QUESTION.**"
   ]
  },
  {
   "cell_type": "code",
   "execution_count": 1,
   "id": "f6d02adf",
   "metadata": {},
   "outputs": [],
   "source": [
    "import numpy as np\n",
    "import pandas as pd  # type: ignore\n",
    "import matplotlib.pyplot as plt # type: ignore\n",
    "import pymc as pm   # type: ignore\n",
    "import arviz as az  # type: ignore"
   ]
  },
  {
   "cell_type": "markdown",
   "id": "bd4b31e6",
   "metadata": {},
   "source": [
    "### Exercise 1 (max 3 points)\n",
    "\n",
    "The file [rhinos.csv](./rhinos.csv) (Duthé, Vanessa (2023), Reductions in home-range size and social interactions among dehorned black rhinoceroses (Diceros bicornis), Dryad, Dataset, https://doi.org/10.5061/dryad.gf1vhhmt5) contains:\n",
    "\n",
    "- Date: date of rhino sighting\n",
    "- RhinosAtSighting: id of individual rhino\n",
    "- Sex: sex of individual rhino\n",
    "- Horn: indicating horned or dehorned rhino at time of sighting\n",
    "- DateBorn: date of birth of individual rhino\n",
    "- Reserve: reserve where sighting occured\n",
    "\n",
    "Read the data in a pandas DataFrame. Be sure  that the columns `Date` and `DateBorn` has dtype `pd.datetime64[ns]`.\n"
   ]
  },
  {
   "cell_type": "code",
   "execution_count": 2,
   "id": "5e2ef34e",
   "metadata": {},
   "outputs": [
    {
     "data": {
      "text/html": [
       "<div>\n",
       "<style scoped>\n",
       "    .dataframe tbody tr th:only-of-type {\n",
       "        vertical-align: middle;\n",
       "    }\n",
       "\n",
       "    .dataframe tbody tr th {\n",
       "        vertical-align: top;\n",
       "    }\n",
       "\n",
       "    .dataframe thead th {\n",
       "        text-align: right;\n",
       "    }\n",
       "</style>\n",
       "<table border=\"1\" class=\"dataframe\">\n",
       "  <thead>\n",
       "    <tr style=\"text-align: right;\">\n",
       "      <th></th>\n",
       "      <th>Date</th>\n",
       "      <th>RhinosAtSighting</th>\n",
       "      <th>Sex</th>\n",
       "      <th>Horn</th>\n",
       "      <th>DateBorn</th>\n",
       "      <th>Reserve</th>\n",
       "    </tr>\n",
       "  </thead>\n",
       "  <tbody>\n",
       "    <tr>\n",
       "      <th>0</th>\n",
       "      <td>2019-03-31</td>\n",
       "      <td>MPGRBF-02-05</td>\n",
       "      <td>Female</td>\n",
       "      <td>Dehorned</td>\n",
       "      <td>1998-01-01</td>\n",
       "      <td>Reserve1</td>\n",
       "    </tr>\n",
       "    <tr>\n",
       "      <th>1</th>\n",
       "      <td>2015-03-17</td>\n",
       "      <td>MPGRBF-02-05</td>\n",
       "      <td>Female</td>\n",
       "      <td>Horned</td>\n",
       "      <td>1998-01-01</td>\n",
       "      <td>Reserve1</td>\n",
       "    </tr>\n",
       "    <tr>\n",
       "      <th>2</th>\n",
       "      <td>2016-02-06</td>\n",
       "      <td>MPGRBF-02-05</td>\n",
       "      <td>Female</td>\n",
       "      <td>Horned</td>\n",
       "      <td>1998-01-01</td>\n",
       "      <td>Reserve1</td>\n",
       "    </tr>\n",
       "    <tr>\n",
       "      <th>3</th>\n",
       "      <td>2018-06-20</td>\n",
       "      <td>MPGRBF-02-05</td>\n",
       "      <td>Female</td>\n",
       "      <td>Dehorned</td>\n",
       "      <td>1998-01-01</td>\n",
       "      <td>Reserve1</td>\n",
       "    </tr>\n",
       "    <tr>\n",
       "      <th>4</th>\n",
       "      <td>2018-01-02</td>\n",
       "      <td>MPGRBF-02-05</td>\n",
       "      <td>Female</td>\n",
       "      <td>Dehorned</td>\n",
       "      <td>1998-01-01</td>\n",
       "      <td>Reserve1</td>\n",
       "    </tr>\n",
       "  </tbody>\n",
       "</table>\n",
       "</div>"
      ],
      "text/plain": [
       "        Date RhinosAtSighting     Sex      Horn   DateBorn   Reserve\n",
       "0 2019-03-31     MPGRBF-02-05  Female  Dehorned 1998-01-01  Reserve1\n",
       "1 2015-03-17     MPGRBF-02-05  Female    Horned 1998-01-01  Reserve1\n",
       "2 2016-02-06     MPGRBF-02-05  Female    Horned 1998-01-01  Reserve1\n",
       "3 2018-06-20     MPGRBF-02-05  Female  Dehorned 1998-01-01  Reserve1\n",
       "4 2018-01-02     MPGRBF-02-05  Female  Dehorned 1998-01-01  Reserve1"
      ]
     },
     "execution_count": 2,
     "metadata": {},
     "output_type": "execute_result"
    }
   ],
   "source": [
    "df=pd.read_csv('rhinos.csv',sep=';', parse_dates=['Date','DateBorn'],dayfirst=True)\n",
    "df.head()"
   ]
  },
  {
   "cell_type": "markdown",
   "id": "2dfd257e",
   "metadata": {},
   "source": [
    "### Exercise 2 (max 3 points)\n",
    "\n",
    "Add a column `Age` with the age in weeks of the rhinos at the time of the sighting.\n"
   ]
  },
  {
   "cell_type": "code",
   "execution_count": 3,
   "id": "fd5366ee",
   "metadata": {},
   "outputs": [],
   "source": [
    "df['Age'] = (df['Date'] - df['DateBorn']).dt.days / 7"
   ]
  },
  {
   "cell_type": "markdown",
   "id": "3682d2d6",
   "metadata": {},
   "source": [
    "### Exercise 3 (max 7 points)\n",
    "\n",
    "Define a function `dehornings` that takes a list of sightings \"Horned\" or \"Dehorned\" and counts how many times the rhino was dehorned.\n",
    "For example, if the sightings are `[\"Horned\", \"Horned\", \"Dehorned\"]`, the rhino was dehorned once; if the sightings are `[\"Dehorned\", \"Dehorned\", \"Dehorned\"]` the rhino was dehorned once; if the sightings are `[\"Horned\", \"Horned\", \"Horned\", \"Horned\"]` the rhino was never dehorned; if the sightings are `[\"Dehorned\", \"Horned\", \"Dehorned\"]` the rhino was dehorned two times.\n",
    "\n",
    "To get the full marks, you should declare correctly the type hints and add a test within a doctest string."
   ]
  },
  {
   "cell_type": "code",
   "execution_count": 4,
   "id": "169a6677",
   "metadata": {},
   "outputs": [
    {
     "data": {
      "text/plain": [
       "1"
      ]
     },
     "execution_count": 4,
     "metadata": {},
     "output_type": "execute_result"
    }
   ],
   "source": [
    "def dehornings(sightings):\n",
    "    count = 0\n",
    "    prev = None\n",
    "    for sighting in sightings:\n",
    "        if sighting == \"Dehorned\" and prev != \"Dehorned\":\n",
    "            count += 1\n",
    "        prev = sighting\n",
    "    return count\n",
    "dehornings([\"Horned\",\"Horned\",\"Dehorned\"])       "
   ]
  },
  {
   "cell_type": "markdown",
   "id": "f3dedc4e",
   "metadata": {},
   "source": [
    "### Exercise 4 (max 5 points)\n",
    "\n",
    "Apply the function defined in Exercise 3 to the data referring to the rhinos and find the rhino that was dehorned the most. Please note that you should order the list of sightings by `Date`."
   ]
  },
  {
   "cell_type": "code",
   "execution_count": 5,
   "id": "7e8a955b",
   "metadata": {
    "lines_to_next_cell": 2
   },
   "outputs": [
    {
     "name": "stdout",
     "output_type": "stream",
     "text": [
      "xWF22\n"
     ]
    }
   ],
   "source": [
    "def find_most_dehorned_rhino(df):\n",
    "    grouped = df.groupby('RhinosAtSighting').apply(\n",
    "    lambda x:x.sort_values('Date')['Horn'].tolist()\n",
    "    )\n",
    "    dehorned_counts=grouped.apply(dehornings)\n",
    "    most_dehorned=dehorned_counts.idxmax()\n",
    "    return most_dehorned\n",
    "print(find_most_dehorned_rhino(df))"
   ]
  },
  {
   "cell_type": "markdown",
   "id": "118dcfab",
   "metadata": {},
   "source": [
    "### Exercise 5 (max 2 points)\n",
    "\n",
    "Compute for each rhino the weeks between the first and the last sighting."
   ]
  },
  {
   "cell_type": "code",
   "execution_count": 6,
   "id": "26d307bc",
   "metadata": {},
   "outputs": [
    {
     "name": "stdout",
     "output_type": "stream",
     "text": [
      "RhinosAtSighting\n",
      "Bonakala      425\n",
      "Bongumenzi    231\n",
      "Cusha         711\n",
      "Dondo         305\n",
      "Dumisane      306\n",
      "             ... \n",
      "xWF22         374\n",
      "xWF30         164\n",
      "xWF5          432\n",
      "xWF6          227\n",
      "xWF7          434\n",
      "Name: Date, Length: 368, dtype: int64\n"
     ]
    }
   ],
   "source": [
    "weeks=(df.groupby('RhinosAtSighting')['Date']\n",
    "      .agg(lambda x:(x.max()-x.min()).days//7)\n",
    "      )\n",
    "print(weeks)"
   ]
  },
  {
   "cell_type": "markdown",
   "id": "fd2043bb",
   "metadata": {},
   "source": [
    "### Exercise 6 (max 4 points)\n",
    "\n",
    "Plot a histogram of the number of rhinos observed in each reserve"
   ]
  },
  {
   "cell_type": "code",
   "execution_count": 7,
   "id": "93c958bc",
   "metadata": {},
   "outputs": [
    {
     "data": {
      "image/png": "[encoded data removed]",
      "text/plain": [
       "<Figure size 640x480 with 1 Axes>"
      ]
     },
     "metadata": {},
     "output_type": "display_data"
    }
   ],
   "source": [
    "rhinos_count_per_reserve=df.groupby('Reserve')['RhinosAtSighting'].nunique()\n",
    "plt.hist(rhinos_count_per_reserve.values,bins=10)\n",
    "plt.xlabel('Number of rhinos')\n",
    "plt.ylabel('Number of reserves')\n",
    "plt.title('Distribution of rhinos per reserve')\n",
    "plt.show()"
   ]
  },
  {
   "cell_type": "markdown",
   "id": "cafddfab",
   "metadata": {},
   "source": [
    "### Exercise 7 (max 4 points)\n",
    "\n",
    "Plot together the histograms of the number of male and female rhinos observed in each reserve"
   ]
  },
  {
   "cell_type": "code",
   "execution_count": 8,
   "id": "3ec24974",
   "metadata": {},
   "outputs": [
    {
     "data": {
      "image/png": "[encoded data removed]",
      "text/plain": [
       "<Figure size 640x480 with 1 Axes>"
      ]
     },
     "metadata": {},
     "output_type": "display_data"
    }
   ],
   "source": [
    "male_rhinos=df[df['Sex']=='Male'].groupby('Reserve')['RhinosAtSighting'].nunique()\n",
    "famale_rhinos=df[df['Sex']=='Female'].groupby('Reserve')['RhinosAtSighting'].nunique()\n",
    "counts_rhinos=pd.DataFrame({'Male':male_rhinos,'Female':famale_rhinos}).fillna(0)\n",
    "counts_rhinos.plot(kind='bar')\n",
    "plt.xlabel('Reserve')\n",
    "plt.ylabel('Number of rhinos')\n",
    "plt.title('The Number of male and remale rhinos')\n",
    "plt.show()"
   ]
  },
  {
   "cell_type": "markdown",
   "id": "bec98ffd",
   "metadata": {},
   "source": [
    "### Exercise 8 (max 5 points)\n",
    "\n",
    "Consider this statistical model:\n",
    "\n",
    "- a parameter $\\alpha$ is normally distributed with mean 0 and standard deviation 2.\n",
    "- a parameter $\\beta$ is normally distributed with mean 0 and standard deviation 2.\n",
    "- $\\sigma$ is exponentially distributed with $\\lambda = 1$\n",
    "- the observed mean number of dehorned sightings for each `Reserve` is normally distributed with a standard deviation of $\\sigma$ and a mean given by $\\alpha + \\beta\\cdot N$, where $N$ is number of (unique) rhinos in the reserve.\n",
    "\n",
    "Code this model with pymc, sample the model, and plot the summary of the resulting estimation by using `az.plot_posterior`.\n",
    "\n",
    "\n",
    "\n"
   ]
  },
  {
   "cell_type": "code",
   "execution_count": 9,
   "id": "75696478",
   "metadata": {},
   "outputs": [],
   "source": [
    "# Step 1: 导入包\n",
    "import pymc as pm\n",
    "import numpy as np\n",
    "import arviz as az\n",
    "\n",
    "# 假数据/必要输入：可以用占位，比如mean_counts、N_rhinos\n",
    "# mean_counts = 保护区去角目击均值, N_rhinos = 保护区犀牛去重数\n",
    "# 可用下面示例来注释\n",
    "# mean_counts = np.array([...])  # 每个保护区的观测均值\n",
    "# N_rhinos = np.array([...])     # 相应保护区的犀牛数\n",
    "\n",
    "# Step 2: 定义建模过程\n",
    "with pm.Model() as model:\n",
    "    # α ~ Normal(0, 2)\n",
    "    alpha = pm.Normal('alpha', mu=0, sigma=2)\n",
    "    # β ~ Normal(0, 2)\n",
    "    beta = pm.Normal('beta', mu=0, sigma=2)\n",
    "    # σ ~ Exponential(1)\n",
    "    sigma = pm.Exponential('sigma', lam=1)\n",
    "    \n",
    "    # 均值：alpha + beta * N，每个reserve一个\n",
    "    # 预测值 mean_pred\n",
    "    # mean_pred = alpha + beta * N_rhinos\n",
    "    # 观测值 likelihood：Normal(mean_pred, sigma)\n",
    "    # pm.Normal('obs', mu=mean_pred, sigma=sigma, observed=mean_counts)\n",
    "    \n",
    "    pass  # 这里可以注释：数据填充后，下一行取消pass并填上likelihood定义\n",
    "    \n",
    "    # Step 3: 采样\n",
    "    # trace = pm.sample(1000, return_inferencedata=True)\n",
    "    pass  # 没实际数据的话用pass占位，并注释说明\n",
    "    \n",
    "    # Step 4: 可视化后验分布\n",
    "    # az.plot_posterior(trace)\n",
    "    pass  # 占位\n",
    "\n",
    "# 注明: 没有实际数据输入这里只能写结构和关键步骤，见上每步注释。"
   ]
  },
  {
   "cell_type": "code",
   "execution_count": null,
   "id": "d4386bc5-7bfc-4c02-b352-3d7044cfd904",
   "metadata": {},
   "outputs": [],
   "source": []
  },
  {
   "cell_type": "code",
   "execution_count": null,
   "id": "5cabc2ff-999b-4c98-b4f8-778cb0906704",
   "metadata": {},
   "outputs": [],
   "source": []
  },
  {
   "cell_type": "code",
   "execution_count": null,
   "id": "ea6ef4f6-9e3f-41e3-8c7f-05f1dbf4c06c",
   "metadata": {},
   "outputs": [],
   "source": []
  },
  {
   "cell_type": "code",
   "execution_count": null,
   "id": "3b4da496-7e0e-49fe-b926-c4d7a701a530",
   "metadata": {},
   "outputs": [],
   "source": []
  }
 ],
 "metadata": {
  "kernelspec": {
   "display_name": "Python 3 (ipykernel)",
   "language": "python",
   "name": "python3"
  },
  "language_info": {
   "codemirror_mode": {
    "name": "ipython",
    "version": 3
   },
   "file_extension": ".py",
   "mimetype": "text/x-python",
   "name": "python",
   "nbconvert_exporter": "python",
   "pygments_lexer": "ipython3",
   "version": "3.8.20"
  }
 },
 "nbformat": 4,
 "nbformat_minor": 5
}
